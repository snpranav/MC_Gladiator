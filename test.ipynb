{
 "cells": [
  {
   "cell_type": "code",
   "execution_count": null,
   "metadata": {},
   "outputs": [],
   "source": []
  },
  {
   "cell_type": "code",
   "execution_count": 1,
   "metadata": {},
   "outputs": [
    {
     "name": "stderr",
     "output_type": "stream",
     "text": [
      "/home/startupshell/.local/lib/python3.7/site-packages/gym/logger.py:34: UserWarning: \u001b[33mWARN: Box bound precision lowered by casting to float32\u001b[0m\n",
      "  warnings.warn(colorize(\"%s: %s\" % (\"WARN\", msg % args), \"yellow\"))\n",
      "/home/startupshell/miniconda3/envs/gladiator/lib/python3.7/site-packages/minerl/herobraine/hero/spaces.py:485: UserWarning: The Text MineRLSpace class is not fully implemented. This may cause problems when sampling an action of this type (even when getting a noop).\n",
      "  warnings.warn(\"The Text MineRLSpace class is not fully implemented. This may cause problems when sampling an action of this type (even when getting a noop).\")\n"
     ]
    }
   ],
   "source": [
    "from environment.pvpbox_specs import PvpBox\n",
    "env = PvpBox()"
   ]
  },
  {
   "cell_type": "code",
   "execution_count": 2,
   "metadata": {},
   "outputs": [
    {
     "name": "stderr",
     "output_type": "stream",
     "text": [
      "/home/startupshell/miniconda3/envs/gladiator/lib/python3.7/site-packages/minerl/herobraine/hero/spaces.py:485: UserWarning: The Text MineRLSpace class is not fully implemented. This may cause problems when sampling an action of this type (even when getting a noop).\n",
      "  warnings.warn(\"The Text MineRLSpace class is not fully implemented. This may cause problems when sampling an action of this type (even when getting a noop).\")\n"
     ]
    }
   ],
   "source": [
    "obs = env.reset()"
   ]
  },
  {
   "cell_type": "code",
   "execution_count": null,
   "metadata": {},
   "outputs": [],
   "source": [
    "env.action_space"
   ]
  }
 ],
 "metadata": {
  "kernelspec": {
   "display_name": "Python 3.7.0 ('gladiator')",
   "language": "python",
   "name": "python3"
  },
  "language_info": {
   "codemirror_mode": {
    "name": "ipython",
    "version": 3
   },
   "file_extension": ".py",
   "mimetype": "text/x-python",
   "name": "python",
   "nbconvert_exporter": "python",
   "pygments_lexer": "ipython3",
   "version": "3.7.0"
  },
  "orig_nbformat": 4,
  "vscode": {
   "interpreter": {
    "hash": "4b7c92b7c7ccd3aaef3ce1df29e2213060f7067724f461be618d41951ec0817f"
   }
  }
 },
 "nbformat": 4,
 "nbformat_minor": 2
}
